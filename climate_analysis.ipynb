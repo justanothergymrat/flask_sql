{
 "cells": [
  {
   "cell_type": "code",
   "execution_count": 685,
   "metadata": {},
   "outputs": [],
   "source": [
    "# imports\n",
    "import pandas as pd\n",
    "import numpy as np\n",
    "import os\n",
    "import sqlalchemy \n",
    "import datetime as dt\n",
    "from sqlalchemy import create_engine, MetaData\n",
    "from sqlalchemy.ext.declarative import declarative_base\n",
    "from sqlalchemy.ext.automap import automap_base\n",
    "from sqlalchemy.orm import Session\n",
    "from sqlalchemy import Column, Integer, String, Numeric, Text, Float, Date, create_engine, inspect, func\n",
    "import matplotlib\n",
    "# matplotlib.use('nbagg')\n",
    "from matplotlib import style\n",
    "style.use('seaborn')\n",
    "import matplotlib.pyplot as plt\n",
    "%matplotlib inline\n"
   ]
  },
  {
   "cell_type": "markdown",
   "metadata": {},
   "source": [
    "Choose a start date and end date for your trip. Make sure that your vacation range is approximately 3-15 days total."
   ]
  },
  {
   "cell_type": "code",
   "execution_count": 686,
   "metadata": {
    "collapsed": true
   },
   "outputs": [],
   "source": [
    "# variables\n",
    "\n",
    "start_date = \"2017-04-01\"\n",
    "end_date = \"2017-04-14\"\n"
   ]
  },
  {
   "cell_type": "markdown",
   "metadata": {},
   "source": [
    "Use SQLAlchemy create_engine to connect to your sqlite database.\n",
    "\n",
    "Use SQLAlchemy automap_base() to reflect your tables into classes and save a reference to those classes called Station and Measurement."
   ]
  },
  {
   "cell_type": "code",
   "execution_count": 687,
   "metadata": {},
   "outputs": [],
   "source": [
    "# start up the engine\n",
    "engine = create_engine(\"sqlite:///hawaii.sqlite\", echo=False)\n",
    "session = Session(engine)\n",
    "\n",
    "inspector = inspect(engine)\n",
    "inspector.get_table_names()\n",
    "\n",
    "\n",
    "# Reflect Database \n",
    "Base = automap_base()\n",
    "Base.prepare(engine, reflect=True)\n",
    "Measurement = Base.classes.measurement\n",
    "Stations = Base.classes.stations\n"
   ]
  },
  {
   "cell_type": "markdown",
   "metadata": {},
   "source": [
    "Design a query to retrieve the last 12 months of precipitation data.\n",
    "\n",
    "Select only the date and prcp values.\n",
    "\n",
    "Load the query results into a Pandas DataFrame and set the index to the date column.\n",
    "\n",
    "Plot the results using the DataFrame plot method."
   ]
  },
  {
   "cell_type": "code",
   "execution_count": 688,
   "metadata": {},
   "outputs": [],
   "source": [
    "# Design a query to retrieve the last 12 months of precipitation data:\n",
    "\n",
    "last_year = dt.date.today() - dt.timedelta(days=365)\n",
    "\n",
    "query = session.query(Measurement).\\\n",
    "    filter(Measurement.date > last_year).\\\n",
    "    order_by(Measurement.date).all()\n",
    "    \n",
    "# for i in range(0,len(query)):\n",
    "#     print(query[i].prcp)"
   ]
  },
  {
   "cell_type": "code",
   "execution_count": 689,
   "metadata": {},
   "outputs": [],
   "source": [
    "# Select only the date and prcp values:\n",
    "\n",
    "last_year = dt.date.today() - dt.timedelta(days=365)\n",
    "\n",
    "query = session.query(Measurement.date,Measurement.prcp).\\\n",
    "    filter(Measurement.date > last_year).\\\n",
    "    order_by(Measurement.date).all()\n",
    "    \n",
    "# for i in range(0,len(query)):\n",
    "#     print(str(query[i].date) + \" : \" + str(query[i].prcp))"
   ]
  },
  {
   "cell_type": "code",
   "execution_count": 690,
   "metadata": {},
   "outputs": [
    {
     "data": {
      "text/html": [
       "<div>\n",
       "<style scoped>\n",
       "    .dataframe tbody tr th:only-of-type {\n",
       "        vertical-align: middle;\n",
       "    }\n",
       "\n",
       "    .dataframe tbody tr th {\n",
       "        vertical-align: top;\n",
       "    }\n",
       "\n",
       "    .dataframe thead th {\n",
       "        text-align: right;\n",
       "    }\n",
       "</style>\n",
       "<table border=\"1\" class=\"dataframe\">\n",
       "  <thead>\n",
       "    <tr style=\"text-align: right;\">\n",
       "      <th></th>\n",
       "      <th>date</th>\n",
       "      <th>prcp</th>\n",
       "    </tr>\n",
       "  </thead>\n",
       "  <tbody>\n",
       "    <tr>\n",
       "      <th>0</th>\n",
       "      <td>2017-04-06</td>\n",
       "      <td>0.0</td>\n",
       "    </tr>\n",
       "    <tr>\n",
       "      <th>1</th>\n",
       "      <td>2017-04-06</td>\n",
       "      <td>0.0</td>\n",
       "    </tr>\n",
       "    <tr>\n",
       "      <th>2</th>\n",
       "      <td>2017-04-06</td>\n",
       "      <td>0.0</td>\n",
       "    </tr>\n",
       "    <tr>\n",
       "      <th>3</th>\n",
       "      <td>2017-04-06</td>\n",
       "      <td>0.0</td>\n",
       "    </tr>\n",
       "    <tr>\n",
       "      <th>4</th>\n",
       "      <td>2017-04-06</td>\n",
       "      <td>0.0</td>\n",
       "    </tr>\n",
       "  </tbody>\n",
       "</table>\n",
       "</div>"
      ],
      "text/plain": [
       "         date  prcp\n",
       "0  2017-04-06   0.0\n",
       "1  2017-04-06   0.0\n",
       "2  2017-04-06   0.0\n",
       "3  2017-04-06   0.0\n",
       "4  2017-04-06   0.0"
      ]
     },
     "execution_count": 690,
     "metadata": {},
     "output_type": "execute_result"
    }
   ],
   "source": [
    "# Load the query results into a Pandas DataFrame and set the index to the date column:\n",
    "\n",
    "query_df = pd.DataFrame(query, columns = ['date', 'prcp'])\n",
    "query_df.set_index=('date')\n",
    "query_df.head()\n"
   ]
  },
  {
   "cell_type": "code",
   "execution_count": 691,
   "metadata": {},
   "outputs": [
    {
     "name": "stderr",
     "output_type": "stream",
     "text": [
      "/Users/m/anaconda2/envs/PythonData/lib/python3.6/site-packages/matplotlib/figure.py:418: UserWarning: matplotlib is currently using a non-GUI backend, so cannot show the figure\n",
      "  \"matplotlib is currently using a non-GUI backend, \"\n"
     ]
    },
    {
     "data": {
      "image/png": "[encoded data removed]",
      "text/plain": [
       "<matplotlib.figure.Figure at 0x124701ef0>"
      ]
     },
     "metadata": {},
     "output_type": "display_data"
    }
   ],
   "source": [
    "# Plot the results using the DataFrame plot method:\n",
    "\n",
    "n = round(len(query_df)/12)\n",
    "\n",
    "# ax = query_df.plot(kind='bar', y='prcp', rot=45)\n",
    "ax = query_df.plot.bar(title='Precipitation levels in Hawaii over the last 12 months',\\\n",
    "                       rot=45)\n",
    "ticks = ax.xaxis.get_ticklocs()\n",
    "ticklabels = [query_df['date'][int(l.get_text())] for l in ax.xaxis.get_ticklabels()]\n",
    "\n",
    "ax.xaxis.set_ticks(ticks[::n])\n",
    "ax.xaxis.set_ticklabels(ticklabels[::n])\n",
    "\n",
    "ax.set_xlabel('Date')\n",
    "ax.set_ylabel('Precipitation Level (inches)')\n",
    "plt.rcParams[\"figure.figsize\"] = [16,9]\n",
    "plt.tight_layout()\n",
    "\n",
    "ax.figure.show()"
   ]
  },
  {
   "cell_type": "code",
   "execution_count": 692,
   "metadata": {},
   "outputs": [
    {
     "data": {
      "text/html": [
       "<div>\n",
       "<style scoped>\n",
       "    .dataframe tbody tr th:only-of-type {\n",
       "        vertical-align: middle;\n",
       "    }\n",
       "\n",
       "    .dataframe tbody tr th {\n",
       "        vertical-align: top;\n",
       "    }\n",
       "\n",
       "    .dataframe thead th {\n",
       "        text-align: right;\n",
       "    }\n",
       "</style>\n",
       "<table border=\"1\" class=\"dataframe\">\n",
       "  <thead>\n",
       "    <tr style=\"text-align: right;\">\n",
       "      <th></th>\n",
       "      <th>date</th>\n",
       "      <th>prcp</th>\n",
       "    </tr>\n",
       "  </thead>\n",
       "  <tbody>\n",
       "    <tr>\n",
       "      <th>count</th>\n",
       "      <td>734</td>\n",
       "      <td>734.000000</td>\n",
       "    </tr>\n",
       "    <tr>\n",
       "      <th>unique</th>\n",
       "      <td>140</td>\n",
       "      <td>NaN</td>\n",
       "    </tr>\n",
       "    <tr>\n",
       "      <th>top</th>\n",
       "      <td>2017-04-06</td>\n",
       "      <td>NaN</td>\n",
       "    </tr>\n",
       "    <tr>\n",
       "      <th>freq</th>\n",
       "      <td>7</td>\n",
       "      <td>NaN</td>\n",
       "    </tr>\n",
       "    <tr>\n",
       "      <th>mean</th>\n",
       "      <td>NaN</td>\n",
       "      <td>0.174005</td>\n",
       "    </tr>\n",
       "    <tr>\n",
       "      <th>std</th>\n",
       "      <td>NaN</td>\n",
       "      <td>0.437950</td>\n",
       "    </tr>\n",
       "    <tr>\n",
       "      <th>min</th>\n",
       "      <td>NaN</td>\n",
       "      <td>0.000000</td>\n",
       "    </tr>\n",
       "    <tr>\n",
       "      <th>25%</th>\n",
       "      <td>NaN</td>\n",
       "      <td>0.000000</td>\n",
       "    </tr>\n",
       "    <tr>\n",
       "      <th>50%</th>\n",
       "      <td>NaN</td>\n",
       "      <td>0.020000</td>\n",
       "    </tr>\n",
       "    <tr>\n",
       "      <th>75%</th>\n",
       "      <td>NaN</td>\n",
       "      <td>0.140000</td>\n",
       "    </tr>\n",
       "    <tr>\n",
       "      <th>max</th>\n",
       "      <td>NaN</td>\n",
       "      <td>6.250000</td>\n",
       "    </tr>\n",
       "  </tbody>\n",
       "</table>\n",
       "</div>"
      ],
      "text/plain": [
       "              date        prcp\n",
       "count          734  734.000000\n",
       "unique         140         NaN\n",
       "top     2017-04-06         NaN\n",
       "freq             7         NaN\n",
       "mean           NaN    0.174005\n",
       "std            NaN    0.437950\n",
       "min            NaN    0.000000\n",
       "25%            NaN    0.000000\n",
       "50%            NaN    0.020000\n",
       "75%            NaN    0.140000\n",
       "max            NaN    6.250000"
      ]
     },
     "execution_count": 692,
     "metadata": {},
     "output_type": "execute_result"
    }
   ],
   "source": [
    "# Use Pandas to print the summary statistics for the precipitation data:\n",
    "\n",
    "query_df.describe(include = 'all')\n"
   ]
  },
  {
   "cell_type": "markdown",
   "metadata": {},
   "source": [
    "Design a query to calculate the total number of stations.\n",
    "\n",
    "Design a query to find the most active stations.\n",
    "\n",
    "List the stations and observation counts in descending order\n",
    "\n",
    "Which station has the highest number of observations?\n",
    "\n",
    "Design a query to retrieve the last 12 months of temperature observation data (tobs).\n",
    "\n",
    "Filter by the station with the highest number of observations.\n",
    "\n",
    "Plot the results as a histogram with bins=12."
   ]
  },
  {
   "cell_type": "code",
   "execution_count": 693,
   "metadata": {},
   "outputs": [
    {
     "name": "stdout",
     "output_type": "stream",
     "text": [
      "9\n"
     ]
    },
    {
     "data": {
      "text/plain": [
       "9"
      ]
     },
     "execution_count": 693,
     "metadata": {},
     "output_type": "execute_result"
    }
   ],
   "source": [
    "# Design a query to calculate the total number of stations:\n",
    "\n",
    "station_count = session.query(Stations).count()\n",
    "\n",
    "print(station_count)\n",
    "\n",
    "# -- or -- #\n",
    "\n",
    "measurement_query = session.query(Measurement).group_by(Measurement.station).order_by(Measurement.station.asc()).statement\n",
    "measurement_df = pd.read_sql_query(measurement_query, session.bind)\n",
    "len(measurement_df)\n"
   ]
  },
  {
   "cell_type": "code",
   "execution_count": 738,
   "metadata": {},
   "outputs": [
    {
     "name": "stdout",
     "output_type": "stream",
     "text": [
      "USC00519281 2772\n",
      "USC00513117 2696\n",
      "USC00519397 2685\n",
      "USC00519523 2572\n",
      "USC00516128 2484\n",
      "USC00514830 1937\n",
      "USC00511918 1932\n",
      "USC00517948 683\n",
      "USC00518838 342\n",
      "\n",
      "\n",
      "WAIHEE 837.5, HI US : 2772 observations\n",
      "KANEOHE 838.1, HI US : 2696 observations\n",
      "WAIKIKI 717.2, HI US : 2685 observations\n",
      "WAIMANALO EXPERIMENTAL FARM, HI US : 2572 observations\n",
      "MANOA LYON ARBO 785.2, HI US : 2484 observations\n",
      "KUALOA RANCH HEADQUARTERS 886.9, HI US : 1937 observations\n",
      "HONOLULU OBSERVATORY 702.2, HI US : 1932 observations\n",
      "PEARL CITY, HI US : 683 observations\n",
      "UPPER WAHIAWA 874.3, HI US : 342 observations\n"
     ]
    },
    {
     "data": {
      "text/html": [
       "<div>\n",
       "<style scoped>\n",
       "    .dataframe tbody tr th:only-of-type {\n",
       "        vertical-align: middle;\n",
       "    }\n",
       "\n",
       "    .dataframe tbody tr th {\n",
       "        vertical-align: top;\n",
       "    }\n",
       "\n",
       "    .dataframe thead th {\n",
       "        text-align: right;\n",
       "    }\n",
       "</style>\n",
       "<table border=\"1\" class=\"dataframe\">\n",
       "  <thead>\n",
       "    <tr style=\"text-align: right;\">\n",
       "      <th></th>\n",
       "      <th>Total Observations</th>\n",
       "    </tr>\n",
       "    <tr>\n",
       "      <th>Station</th>\n",
       "      <th></th>\n",
       "    </tr>\n",
       "  </thead>\n",
       "  <tbody>\n",
       "    <tr>\n",
       "      <th>USC00519281</th>\n",
       "      <td>2772</td>\n",
       "    </tr>\n",
       "    <tr>\n",
       "      <th>USC00513117</th>\n",
       "      <td>2696</td>\n",
       "    </tr>\n",
       "    <tr>\n",
       "      <th>USC00519397</th>\n",
       "      <td>2685</td>\n",
       "    </tr>\n",
       "    <tr>\n",
       "      <th>USC00519523</th>\n",
       "      <td>2572</td>\n",
       "    </tr>\n",
       "    <tr>\n",
       "      <th>USC00516128</th>\n",
       "      <td>2484</td>\n",
       "    </tr>\n",
       "    <tr>\n",
       "      <th>USC00514830</th>\n",
       "      <td>1937</td>\n",
       "    </tr>\n",
       "    <tr>\n",
       "      <th>USC00511918</th>\n",
       "      <td>1932</td>\n",
       "    </tr>\n",
       "    <tr>\n",
       "      <th>USC00517948</th>\n",
       "      <td>683</td>\n",
       "    </tr>\n",
       "    <tr>\n",
       "      <th>USC00518838</th>\n",
       "      <td>342</td>\n",
       "    </tr>\n",
       "  </tbody>\n",
       "</table>\n",
       "</div>"
      ],
      "text/plain": [
       "             Total Observations\n",
       "Station                        \n",
       "USC00519281                2772\n",
       "USC00513117                2696\n",
       "USC00519397                2685\n",
       "USC00519523                2572\n",
       "USC00516128                2484\n",
       "USC00514830                1937\n",
       "USC00511918                1932\n",
       "USC00517948                 683\n",
       "USC00518838                 342"
      ]
     },
     "execution_count": 738,
     "metadata": {},
     "output_type": "execute_result"
    }
   ],
   "source": [
    "# Design a query to find the most active stations:\n",
    "# List the stations and observation counts in descending order\n",
    "\n",
    "station_counts_query = session.query(Measurement.station, func.count(Measurement.tobs).\\\n",
    "                                    label('tobs_count')).\\\n",
    "group_by(Measurement.station).\\\n",
    "order_by(func.count(Measurement.tobs).desc())\n",
    "station_counts_query\n",
    "# for records in station_counts_query:\n",
    "#     print(records)\n",
    "for instance in station_counts_query:\n",
    "    print(instance.station, instance.tobs_count)\n",
    "    \n",
    "# -- or -- #\n",
    "print(\"\\n\")\n",
    "\n",
    "station_counts_query = session.query(Stations.name, func.count(Measurement.tobs).\\\n",
    "                                    label('tobs_count')).\\\n",
    "select_from(Measurement).join(Stations, Measurement.station == Stations.station).\\\n",
    "group_by(Stations.name).\\\n",
    "order_by(func.count(Measurement.tobs).desc())\n",
    "station_counts_query\n",
    "# for records in station_counts_query:\n",
    "#     print(records)\n",
    "for instance in station_counts_query:\n",
    "    print(str(instance.name)+ \" : \" + str(instance.tobs_count) + \" observations\")\n",
    "\n",
    "# -- or -- #\n",
    "\n",
    "station_counts_query = session.query(Measurement.station, func.count(Measurement.tobs)).\\\n",
    "group_by(Measurement.station).\\\n",
    "order_by(Measurement.tobs.desc()).statement\n",
    "station_counts_df = pd.read_sql_query(station_counts_query, session.bind)\n",
    "station_counts_df.columns = ['Station','Total Observations']\n",
    "station_counts_df = station_counts_df.set_index('Station')\n",
    "station_counts_df = station_counts_df.sort_values(['Total Observations'], ascending=False)\n",
    "station_counts_df"
   ]
  },
  {
   "cell_type": "code",
   "execution_count": 748,
   "metadata": {},
   "outputs": [
    {
     "name": "stdout",
     "output_type": "stream",
     "text": [
      "USC00519281\n",
      "2772\n",
      "\n",
      "Station with highest # of observations: USC00519281 with 2772 observations counts.\n",
      "\n",
      "WAIHEE 837.5, HI US : 2772 observations\n"
     ]
    }
   ],
   "source": [
    "# Which station has the highest number of observations?\n",
    "\n",
    "station_highest_query = session.query(Measurement.station, func.count(Measurement.tobs)).\\\n",
    "group_by(Measurement.station).\\\n",
    "order_by(func.count(Measurement.tobs).desc()).limit(1)\n",
    "for records in station_highest_query:\n",
    "    for i in range(0,len(records)):\n",
    "        print(records[i])\n",
    "    \n",
    "print(\"\\nStation with highest # of observations: \" + str(station_highest_query[0][0]) +\n",
    "     \" with \" + str(station_highest_query[0][1]) + \" observations counts.\\n\")\n",
    "\n",
    "# -- or -- #\n",
    "\n",
    "station_highest_query = session.query(Stations.name, func.count(Measurement.tobs).\\\n",
    "                                     label('tobs_count')).\\\n",
    "select_from(Measurement).join(Stations, Measurement.station == Stations.station).\\\n",
    "group_by(Measurement.station).\\\n",
    "order_by(func.count(Measurement.tobs).desc()).limit(1)\n",
    "for instance in station_highest_query:\n",
    "     print(str(instance.name)+ \" : \" + str(instance.tobs_count) + \" observations\")"
   ]
  },
  {
   "cell_type": "code",
   "execution_count": 749,
   "metadata": {},
   "outputs": [],
   "source": [
    "# Design a query to retrieve the last 12 months of temperature observation data (tobs):\n",
    "\n",
    "last_year = dt.date.today() - dt.timedelta(days=365)\n",
    "\n",
    "last_year_tobs = session.query(Measurement).\\\n",
    "    filter(Measurement.date > last_year).\\\n",
    "    order_by(Measurement.date).all()\n",
    "    \n",
    "tobs = [result.tobs for result in last_year_tobs]\n",
    "# print(tobs)"
   ]
  },
  {
   "cell_type": "code",
   "execution_count": 779,
   "metadata": {},
   "outputs": [
    {
     "name": "stdout",
     "output_type": "stream",
     "text": [
      "Station with highest # of observations in a day: USC00519397 with 87 observations.\n",
      "\n",
      "WAIKIKI 717.2, HI US : 87 observations\n"
     ]
    }
   ],
   "source": [
    "# Filter by the station with the highest number of observations\n",
    "last_year_tobs = session.query(Measurement.station, Measurement.tobs).\\\n",
    "    filter(Measurement.date > last_year).\\\n",
    "    order_by(Measurement.tobs.desc()).first()\n",
    "\n",
    "print(\"Station with highest # of observations in a day: \" + str(last_year_tobs[0]) +\n",
    "     \" with \" + str(last_year_tobs[1]) + \" observations.\\n\")\n",
    "\n",
    "# -- or -- #\n",
    "\n",
    "last_year_tobs = session.query(Stations.name, Measurement.tobs).\\\n",
    "select_from(Measurement).join(Stations, Measurement.station == Stations.station).\\\n",
    "    filter(Measurement.date > last_year).\\\n",
    "    order_by(Measurement.tobs.desc()).first()\n",
    "\n",
    "for instance in station_highest_query:\n",
    " print(str(last_year_tobs.name)+ \" : \" + str(last_year_tobs.tobs) + \" observations\")\n"
   ]
  },
  {
   "cell_type": "code",
   "execution_count": 780,
   "metadata": {},
   "outputs": [
    {
     "name": "stderr",
     "output_type": "stream",
     "text": [
      "/Users/m/anaconda2/envs/PythonData/lib/python3.6/site-packages/matplotlib/figure.py:418: UserWarning: matplotlib is currently using a non-GUI backend, so cannot show the figure\n",
      "  \"matplotlib is currently using a non-GUI backend, \"\n"
     ]
    },
    {
     "data": {
      "image/png": "[encoded data removed]",
      "text/plain": [
       "<matplotlib.figure.Figure at 0x11d696710>"
      ]
     },
     "metadata": {},
     "output_type": "display_data"
    }
   ],
   "source": [
    "# Plot the results as a histogram with bins=12\n",
    "\n",
    "fig, ax = plt.subplots()\n",
    "ax.hist(tobs, bins=12)\n",
    "ax.set_xlabel(\"Temperature (F)\")\n",
    "ax.set_ylabel(\"Frequency\")\n",
    "# ax.set_yticks(ypos)\n",
    "# ax.set_yticklabels(emoji_id[::-1])\n",
    "ax.set_title(\"Frequency of Temperaturea Recorded Last Year\")\n",
    "fig.tight_layout()\n",
    "fig.show()"
   ]
  },
  {
   "cell_type": "markdown",
   "metadata": {},
   "source": [
    "Write a function called calc_temps that will accept a start date and end date in the format %Y-%m-%d and return the minimum, average, and maximum temperatures for that range of dates.\n",
    "\n",
    "Use the calc_temps function to calculate the min, avg, and max temperatures for your trip using the matching dates from the previous year (i.e. use \"2017-01-01\" if your trip start date was \"2018-01-01\")\n",
    "\n",
    "Plot the min, avg, and max temperature from your previous query as a bar chart.\n",
    "\n",
    "Use the average temperature as the bar height.\n",
    "\n",
    "Use the peak-to-peak (tmax-tmin) value as the y error bar (yerr)."
   ]
  },
  {
   "cell_type": "code",
   "execution_count": 781,
   "metadata": {},
   "outputs": [],
   "source": [
    "# Write a function called calc_temps that will accept a start date and end date in \n",
    "# the format %Y-%m-%d and return the minimum, average, and maximum temperatures for \n",
    "# that range of dates.\n",
    "\n",
    "def calc_temps(trip_start_date,trip_end_date):\n",
    "    \n",
    "    minimum = session.query(func.min(Measurement.tobs)).\\\n",
    "filter(Measurement.date > trip_start_date, Measurement.date < trip_end_date)\\\n",
    "[0][0]\n",
    "    if minimum == None:\n",
    "        print(\"Trip needs to be longer, exiting\")\n",
    "        return\n",
    "    average = round(session.query(func.avg(Measurement.tobs)).\\\n",
    "    filter(Measurement.date > trip_start_date, Measurement.date < trip_end_date)\\\n",
    "    [0][0],2)\n",
    "    \n",
    "    maximum = session.query(func.max(Measurement.tobs)).\\\n",
    "    filter(Measurement.date > trip_start_date, Measurement.date < trip_end_date)\\\n",
    "    [0][0]\n",
    "\n",
    "#     return \"minimum = \" + str(minimum) + \", \" + \"maximum = \" + str(maximum) + \", \" + \"average = \" + str(average)\n",
    "    return minimum, average, maximum"
   ]
  },
  {
   "cell_type": "code",
   "execution_count": 782,
   "metadata": {},
   "outputs": [
    {
     "name": "stdout",
     "output_type": "stream",
     "text": [
      "Temperature stats during vataion: \n",
      "minimum = 67, maximum = 82, average = 74.37\n"
     ]
    }
   ],
   "source": [
    "# calc_temps_start_date = '2016-04-01'\n",
    "# calc_temps_end_date = '2016-04-02'\n",
    "temp_during_vacation = calc_temps(start_date,end_date)\n",
    "print(\"Temperature stats during vataion: \\n\" + \n",
    "      \"minimum = \" + str(temp_during_vacation[0]) + \", \" + \"maximum = \" + str(temp_during_vacation[2]) + \", \" + \"average = \" + str(temp_during_vacation[1]))"
   ]
  },
  {
   "cell_type": "code",
   "execution_count": 783,
   "metadata": {},
   "outputs": [],
   "source": [
    "# calc_temps_query = session.query(func.min(Measurement.tobs)).\\\n",
    "# filter(Measurement.date > '2016-04-01', Measurement.date < '2016-04-09').\\\n",
    "# order_by(func.min(Measurement.tobs).desc())\n",
    "# for record in calc_temps_query:\n",
    "#     print(record[0])\n"
   ]
  },
  {
   "cell_type": "code",
   "execution_count": 784,
   "metadata": {},
   "outputs": [],
   "source": [
    "# calc_temps_query = session.query(func.min(Measurement.tobs)).\\\n",
    "# filter(Measurement.date > '2016-04-01', Measurement.date < '2016-04-09')[0][0]\n",
    "# # for record in calc_temps_query:\n",
    "# #     print(record.date)\n",
    "# # calc_temps_query.all()[0][0]\n",
    "# calc_temps_query"
   ]
  },
  {
   "cell_type": "code",
   "execution_count": 785,
   "metadata": {},
   "outputs": [],
   "source": [
    "# for instance in session.query(Measurement).\\\n",
    "# filter(Measurement.date > '2016-04-01', Measurement.date < '2016-04-03'):\n",
    "#     print(instance.station, instance.tobs)"
   ]
  },
  {
   "cell_type": "code",
   "execution_count": 786,
   "metadata": {},
   "outputs": [],
   "source": [
    "# for instance in session.query(func.min(Measurement.tobs)).\\\n",
    "# filter(Measurement.date > '2016-04-01', Measurement.date < '2016-04-09'):\n",
    "#     x=instance[0]\n",
    "# # for record in calc_temps_query:\n",
    "# #     print(record.date)\n",
    "# # calc_temps_query.all()\n",
    "# x"
   ]
  },
  {
   "cell_type": "code",
   "execution_count": 788,
   "metadata": {},
   "outputs": [
    {
     "data": {
      "image/png": "[encoded data removed]",
      "text/plain": [
       "<matplotlib.figure.Figure at 0x12b6ce080>"
      ]
     },
     "metadata": {},
     "output_type": "display_data"
    }
   ],
   "source": [
    "# Plot the min, avg, and max temperature from your previous query as a bar chart\n",
    "# Use the average temperature as the bar height. \n",
    "# Use the peak-to-peak (tmax-tmin) value as the y error bar (yerr)\n",
    "\n",
    "temp_analysis = calc_temps(start_date,end_date)\n",
    "average = temp_analysis[1]\n",
    "error_bar = temp_analysis[2]-temp_analysis[0]\n",
    "\n",
    "plt.bar(average,height=average, width =.5, yerr=error_bar)\n",
    "plt.ylim(0, average*1.5)\n",
    "plt.xlim(average-1,average+1)\n",
    "plt.xticks([])\n",
    "plt.suptitle(\"Trip Temp Average\")\n",
    "plt.ylabel(\"Temperature (F)\")\n",
    "plt.tight_layout()\n",
    "plt.show()"
   ]
  },
  {
   "cell_type": "code",
   "execution_count": null,
   "metadata": {},
   "outputs": [],
   "source": []
  },
  {
   "cell_type": "code",
   "execution_count": null,
   "metadata": {
    "collapsed": true
   },
   "outputs": [],
   "source": []
  }
 ],
 "metadata": {
  "kernelspec": {
   "display_name": "Python [conda env:PythonData]",
   "language": "python",
   "name": "conda-env-PythonData-py"
  },
  "language_info": {
   "codemirror_mode": {
    "name": "ipython",
    "version": 3
   },
   "file_extension": ".py",
   "mimetype": "text/x-python",
   "name": "python",
   "nbconvert_exporter": "python",
   "pygments_lexer": "ipython3",
   "version": "3.6.3"
  }
 },
 "nbformat": 4,
 "nbformat_minor": 2
}
