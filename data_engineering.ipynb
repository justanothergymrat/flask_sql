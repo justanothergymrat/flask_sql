{
 "cells": [
  {
   "cell_type": "code",
   "execution_count": null,
   "metadata": {},
   "outputs": [],
   "source": [
    "!rm hawaii.sqlite clean_stations.csv clean_measurements.csv"
   ]
  },
  {
   "cell_type": "code",
   "execution_count": null,
   "metadata": {
    "collapsed": true
   },
   "outputs": [],
   "source": [
    "import pandas as pd\n",
    "import numpy as np\n",
    "import os"
   ]
  },
  {
   "cell_type": "markdown",
   "metadata": {},
   "source": [
    "Use Pandas to read in the measurement and station CSV files as DataFrames.\n",
    "\n",
    "Inspect the data for NaNs and missing values. You must decide what to do with this data.\n",
    "\n",
    "Save your cleaned CSV files with the prefix clean_"
   ]
  },
  {
   "cell_type": "code",
   "execution_count": null,
   "metadata": {},
   "outputs": [],
   "source": [
    "# process CSVs\n",
    "measurements_file = \"hawaii_measurements.csv\"\n",
    "stations_file = \"hawaii_stations.csv\"\n",
    "\n",
    "df_measurements = pd.read_csv(measurements_file)\n",
    "df_measurements_clean = None\n",
    "\n",
    "column_list = df_measurements.columns\n",
    "print('Cleaning ' + measurements_file + \"... \\n\")\n",
    "for y in range(0,len(column_list)):\n",
    "    column_name = (column_list[y])\n",
    "    blank_count = df_measurements[column_name].isnull().sum()\n",
    "    print(\"name: \" + column_list[y] + \", blanks present: \" + str(blank_count))\n",
    "    if df_measurements[column_name].isnull().sum():\n",
    "        print('\\n NaN or blank cells present in %s, purging those rows \\n' % (column_list[y]))\n",
    "        df_measurements_clean = df_measurements.dropna(axis=0)\n",
    "        break\n",
    "    elif y == (len(column_list)-1) and df_measurements_clean is None:\n",
    "        print('No NaN or blank cells present, creating clean DF \\n')\n",
    "        df_measurements_clean = df_measurements\n",
    "#         df_measurements_clean = df_measurements.fillna(0)\n",
    "\n",
    "print(\"--- \\n\")\n",
    "\n",
    "clean_measurements_csv = 'clean_measurements.csv'\n",
    "df_measurements_clean.to_csv(clean_measurements_csv, index=False)\n",
    "\n",
    "df_stations = pd.read_csv(stations_file)\n",
    "df_stations_clean = None\n",
    "\n",
    "column_list = df_stations.columns\n",
    "print('Cleaning: ' + stations_file + \"... \\n\")\n",
    "for y in range(0,len(column_list)):\n",
    "    column_name = (column_list[y])\n",
    "    blank_count = df_stations[column_name].isnull().sum()\n",
    "    print(\"name: \" + column_list[y] + \", blanks present: \" + str(blank_count))\n",
    "    if df_stations[column_name].isnull().sum():\n",
    "        print('\\n NaN or blank cells present in %s, purging those rows \\n' % (column_list[y]))\n",
    "        df_stations_clean = df_stations.dropna(axis=0)\n",
    "    elif y == (len(column_list)-1) and df_stations_clean is None:\n",
    "        print('\\n No NaN or blank cells present, creating clean DF \\n')\n",
    "        df_stations_clean = df_stations\n",
    "#         df_stations_clean = df_stations.fillna(0)\n",
    "\n",
    "clean_stations_csv = 'clean_stations.csv'\n",
    "df_stations_clean.to_csv(clean_stations_csv, index=False)\n",
    "\n"
   ]
  },
  {
   "cell_type": "code",
   "execution_count": null,
   "metadata": {},
   "outputs": [],
   "source": [
    "\n"
   ]
  },
  {
   "cell_type": "code",
   "execution_count": null,
   "metadata": {},
   "outputs": [],
   "source": []
  },
  {
   "cell_type": "code",
   "execution_count": null,
   "metadata": {},
   "outputs": [],
   "source": []
  },
  {
   "cell_type": "code",
   "execution_count": null,
   "metadata": {},
   "outputs": [],
   "source": []
  },
  {
   "cell_type": "code",
   "execution_count": null,
   "metadata": {},
   "outputs": [],
   "source": []
  },
  {
   "cell_type": "code",
   "execution_count": null,
   "metadata": {},
   "outputs": [],
   "source": []
  },
  {
   "cell_type": "code",
   "execution_count": null,
   "metadata": {
    "collapsed": true
   },
   "outputs": [],
   "source": []
  }
 ],
 "metadata": {
  "kernelspec": {
   "display_name": "Python [conda env:PythonData]",
   "language": "python",
   "name": "conda-env-PythonData-py"
  },
  "language_info": {
   "codemirror_mode": {
    "name": "ipython",
    "version": 3
   },
   "file_extension": ".py",
   "mimetype": "text/x-python",
   "name": "python",
   "nbconvert_exporter": "python",
   "pygments_lexer": "ipython3",
   "version": "3.6.3"
  }
 },
 "nbformat": 4,
 "nbformat_minor": 2
}
