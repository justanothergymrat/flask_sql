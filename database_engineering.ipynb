{
 "cells": [
  {
   "cell_type": "code",
   "execution_count": 5,
   "metadata": {
    "collapsed": true
   },
   "outputs": [],
   "source": [
    "!rm hawaii.sqlite\n",
    "\n",
    "# Python SQL toolkit and Object Relational Mapper\n",
    "import pandas as pd\n",
    "import numpy as np\n",
    "import os\n",
    "import sqlalchemy\n",
    "from datetime import datetime\n",
    "from sqlalchemy import create_engine, MetaData\n",
    "from sqlalchemy.ext.declarative import declarative_base\n",
    "from sqlalchemy import Column, Integer, String, Numeric, Text, Float, Date"
   ]
  },
  {
   "cell_type": "markdown",
   "metadata": {},
   "source": [
    "Use the engine and connection string to create a database called hawaii.sqlite.\n",
    "\n",
    "Use declarative_base and create ORM classes for each table.\n",
    "\n",
    "You will need a class for Measurement and for Station.\n",
    "\n",
    "Make sure to define your primary keys.\n",
    "\n",
    "Once you have your ORM classes defined, create the tables in the database using create_all."
   ]
  },
  {
   "cell_type": "code",
   "execution_count": 6,
   "metadata": {},
   "outputs": [],
   "source": [
    "# Create engine \n",
    "engine = create_engine('sqlite:///hawaii.sqlite', echo=False)\n",
    "\n",
    "conn = engine.connect()\n",
    "Base = declarative_base()\n",
    "\n",
    "# Create classes\n",
    "\n",
    "class Measurement(Base):\n",
    "    __tablename__ = 'measurement'\n",
    "\n",
    "    id = Column(Integer, primary_key=True)\n",
    "    station = Column(Text)\n",
    "    date = Column(Date)\n",
    "    prcp = Column(Float)\n",
    "    tobs = Column(Integer)\n",
    "\n",
    "#     def __repr__(self):\n",
    "#         return f\"id={self.id}, name={self.name}\"\n",
    "    \n",
    "class Stations(Base):\n",
    "    __tablename__ = 'stations'\n",
    "\n",
    "    id = Column(Integer, primary_key=True)\n",
    "    station = Column(Text)\n",
    "    name = Column(Text)\n",
    "    latitude = Column(Float)\n",
    "    longitude = Column(Float)\n",
    "    elevation = Column(Float)\n",
    "\n",
    "#     def __repr__(self):\n",
    "#         return f\"id={self.id}, name={self.name}\"\n",
    "    \n",
    "# Create table\n",
    "Base.metadata.create_all(engine)\n"
   ]
  },
  {
   "cell_type": "markdown",
   "metadata": {},
   "source": [
    "Use Pandas to read your cleaned measurements and stations CSV data:"
   ]
  },
  {
   "cell_type": "code",
   "execution_count": 7,
   "metadata": {},
   "outputs": [
    {
     "data": {
      "text/plain": [
       "[(1, 'USC00519397', '2010-01-01', 0.08, 65),\n",
       " (2, 'USC00519397', '2010-01-02', 0.0, 63),\n",
       " (3, 'USC00519397', '2010-01-03', 0.0, 74),\n",
       " (4, 'USC00519397', '2010-01-04', 0.0, 76),\n",
       " (5, 'USC00519397', '2010-01-07', 0.06, 70)]"
      ]
     },
     "execution_count": 7,
     "metadata": {},
     "output_type": "execute_result"
    }
   ],
   "source": [
    "#Populate Measurement Table\n",
    "\n",
    "measurements_clean = \"clean_measurements.csv\"\n",
    "\n",
    "# load cleaned data to df\n",
    "measurement_df = pd.read_csv(measurements_clean)\n",
    "\n",
    "# convert date to something sqlalchemy likes\n",
    "measurement_df['date'] = pd.to_datetime(measurement_df['date'])\n",
    "\n",
    "# get data into tables\n",
    "data = measurement_df.to_dict(orient='records')\n",
    "metadata = MetaData(bind=engine)\n",
    "metadata.reflect()\n",
    "table1 = sqlalchemy.Table('measurement', metadata, autoload=True)\n",
    "\n",
    "# push it into DB & verify\n",
    "conn.execute(table1.delete())\n",
    "conn.execute(table1.insert(),data)\n",
    "conn.execute(\"select * from measurement limit 5\").fetchall()"
   ]
  },
  {
   "cell_type": "code",
   "execution_count": 8,
   "metadata": {},
   "outputs": [
    {
     "data": {
      "text/plain": [
       "[(1, 'USC00519397', 'WAIKIKI 717.2, HI US', 21.2716, -157.8168, 3.0),\n",
       " (2, 'USC00513117', 'KANEOHE 838.1, HI US', 21.4234, -157.8015, 14.6),\n",
       " (3, 'USC00514830', 'KUALOA RANCH HEADQUARTERS 886.9, HI US', 21.5213, -157.8374, 7.0),\n",
       " (4, 'USC00517948', 'PEARL CITY, HI US', 21.3934, -157.9751, 11.9),\n",
       " (5, 'USC00518838', 'UPPER WAHIAWA 874.3, HI US', 21.4992, -158.0111, 306.6),\n",
       " (6, 'USC00519523', 'WAIMANALO EXPERIMENTAL FARM, HI US', 21.33556, -157.71139, 19.5),\n",
       " (7, 'USC00519281', 'WAIHEE 837.5, HI US', 21.45167, -157.84888999999995, 32.9),\n",
       " (8, 'USC00511918', 'HONOLULU OBSERVATORY 702.2, HI US', 21.3152, -157.9992, 0.9),\n",
       " (9, 'USC00516128', 'MANOA LYON ARBO 785.2, HI US', 21.3331, -157.8025, 152.4)]"
      ]
     },
     "execution_count": 8,
     "metadata": {},
     "output_type": "execute_result"
    }
   ],
   "source": [
    "#Populate Stations Table\n",
    "\n",
    "stations_clean = \"clean_stations.csv\"\n",
    "\n",
    "# load cleaned data to df\n",
    "stations_df = pd.read_csv(stations_clean)\n",
    "\n",
    "# get data into tables\n",
    "data = stations_df.to_dict(orient='records')\n",
    "metadata = MetaData(bind=engine)\n",
    "metadata.reflect()\n",
    "table2 = sqlalchemy.Table('stations', metadata, autoload=True)\n",
    "\n",
    "# push it into DB & verify\n",
    "conn.execute(table2.delete())\n",
    "conn.execute(table2.insert(),data)\n",
    "conn.execute(\"select * from stations\").fetchall()"
   ]
  },
  {
   "cell_type": "code",
   "execution_count": null,
   "metadata": {},
   "outputs": [],
   "source": []
  },
  {
   "cell_type": "code",
   "execution_count": null,
   "metadata": {},
   "outputs": [],
   "source": []
  },
  {
   "cell_type": "code",
   "execution_count": null,
   "metadata": {},
   "outputs": [],
   "source": []
  },
  {
   "cell_type": "code",
   "execution_count": null,
   "metadata": {
    "collapsed": true
   },
   "outputs": [],
   "source": []
  }
 ],
 "metadata": {
  "kernelspec": {
   "display_name": "Python [conda env:PythonData]",
   "language": "python",
   "name": "conda-env-PythonData-py"
  },
  "language_info": {
   "codemirror_mode": {
    "name": "ipython",
    "version": 3
   },
   "file_extension": ".py",
   "mimetype": "text/x-python",
   "name": "python",
   "nbconvert_exporter": "python",
   "pygments_lexer": "ipython3",
   "version": "3.6.3"
  }
 },
 "nbformat": 4,
 "nbformat_minor": 2
}
